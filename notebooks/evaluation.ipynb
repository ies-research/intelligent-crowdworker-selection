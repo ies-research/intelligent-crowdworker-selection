{
 "cells": [
  {
   "cell_type": "markdown",
   "source": [
    "# Results of Experimental Evaluation\n",
    "In this notebook, we load the experimental results and visualize them through curves."
   ],
   "metadata": {
    "collapsed": false
   }
  },
  {
   "cell_type": "code",
   "execution_count": null,
   "outputs": [],
   "source": [
    "import matplotlib.pyplot as plt\n",
    "import pandas as pd\n",
    "import numpy as np\n",
    "\n",
    "from matplotlib.ticker import StrMethodFormatter\n",
    "plt.rcParams.update({\n",
    "    \"text.usetex\": True,\n",
    "    \"font.family\": \"Liberation Serif\"\n",
    "})\n",
    "fontsize= 24\n",
    "\n",
    "from evaluation.run_experiment import RESULT_PATH"
   ],
   "metadata": {
    "collapsed": false
   }
  },
  {
   "cell_type": "markdown",
   "source": [
    "### Load Results\n",
    "In the following cell, we load the results. For this purpose, we need to specify the name of the dataset and the tested batch size."
   ],
   "metadata": {
    "collapsed": false
   }
  },
  {
   "cell_type": "code",
   "execution_count": null,
   "outputs": [],
   "source": [
    "data_set = \"cifar10\"\n",
    "batch_size = 256\n",
    "results = {\n",
    "    \"Random-DL\": {\"filename\": f\"{data_set}-mr-false-{batch_size}-new.csv\", \"color\": \"#2a7fffff\"},\n",
    "    \"Random-MaDL\": {\"filename\": f\"{data_set}-madl-false-{batch_size}-new.csv\", \"color\": \"#008080ff\"},\n",
    "    \"Intelligent-MaDL\": {\"filename\": f\"{data_set}-madl-true-{batch_size}-new.csv\", \"color\": \"#800080ff\"},\n",
    "}\n",
    "for key in list(results.keys()):\n",
    "    try:\n",
    "        results[key][\"res\"] = pd.read_csv(f\"{RESULT_PATH}/{results[key]['filename']}\")\n",
    "    except FileNotFoundError:\n",
    "        del results[key]"
   ],
   "metadata": {
    "collapsed": false
   }
  },
  {
   "cell_type": "markdown",
   "source": [
    "### Visualize Misclassification \n",
    "In the following cell, we visualize the misclassification rate across the crowdworking iterations."
   ],
   "metadata": {
    "collapsed": false
   }
  },
  {
   "cell_type": "code",
   "execution_count": null,
   "metadata": {},
   "outputs": [],
   "source": [
    "plt.figure(figsize=(6, 6))\n",
    "plt.title(f\"{data_set}\".upper())\n",
    "for key, item in results.items():\n",
    "    df = item[\"res\"]\n",
    "    plt.errorbar(x=np.arange(25+1), y=1-df[\"mean-accuracy\"], yerr=df[\"std-accuracy\"], label=key, fmt='-o', color=results[key][\"color\"])\n",
    "plt.xlabel(f\"Crowdsourcing Iteration\", fontsize=fontsize)\n",
    "plt.xticks(fontsize=fontsize-6)\n",
    "plt.ylabel(f\"Misclassification Rate\", fontsize=fontsize)\n",
    "plt.yticks(fontsize=fontsize-6)\n",
    "plt.gca().xaxis.set_major_formatter(StrMethodFormatter('{x:,.0f}'))\n",
    "plt.gca().yaxis.set_major_formatter(StrMethodFormatter('{x:,.2f}'))\n",
    "plt.tight_layout()\n",
    "plt.legend()\n",
    "plt.savefig(f\"{RESULT_PATH}/{data_set}-{batch_size}-misclassification-rate.pdf\", bbox_inches=\"tight\", pad_inches=0)\n",
    "plt.show()"
   ]
  },
  {
   "cell_type": "markdown",
   "source": [
    "### Visualize Erroneous Annotation Rate\n",
    "In the following cell, we visualize the erroneous annotation rate across the crowdworking iterations."
   ],
   "metadata": {
    "collapsed": false
   }
  },
  {
   "cell_type": "code",
   "execution_count": null,
   "metadata": {},
   "outputs": [],
   "source": [
    "plt.figure(figsize=(6, 6))\n",
    "plt.title(f\"{data_set}\".upper())\n",
    "for key, item in results.items():\n",
    "    df = item[\"res\"]\n",
    "    plt.errorbar(x=np.arange(25+1), y=1-df[\"mean-correct-label-ratio\"], yerr=df[\"std-correct-label-ratio\"], label=key, fmt='-o', color=results[key][\"color\"])\n",
    "plt.xlabel(f\"Crowdsourcing Iteration\", fontsize=fontsize)\n",
    "plt.xticks(fontsize=fontsize-6)\n",
    "plt.ylabel(f\"Erroneous Annotation Rate\", fontsize=fontsize)\n",
    "plt.yticks(fontsize=fontsize-6)\n",
    "plt.gca().xaxis.set_major_formatter(StrMethodFormatter('{x:,.0f}'))\n",
    "plt.gca().yaxis.set_major_formatter(StrMethodFormatter('{x:,.2f}'))\n",
    "plt.tight_layout()\n",
    "plt.legend()\n",
    "plt.savefig(f\"{RESULT_PATH}/{data_set}-{batch_size}-erroneous-annotation-rate.pdf\", bbox_inches=\"tight\", pad_inches=0)\n",
    "plt.show()"
   ]
  }
 ],
 "metadata": {
  "kernelspec": {
   "display_name": "Python 3 (ipykernel)",
   "language": "python",
   "name": "python3"
  },
  "language_info": {
   "codemirror_mode": {
    "name": "ipython",
    "version": 3
   },
   "file_extension": ".py",
   "mimetype": "text/x-python",
   "name": "python",
   "nbconvert_exporter": "python",
   "pygments_lexer": "ipython3",
   "version": "3.9.6"
  }
 },
 "nbformat": 4,
 "nbformat_minor": 1
}
